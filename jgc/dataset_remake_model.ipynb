{
 "cells": [
  {
   "cell_type": "code",
   "execution_count": 1,
   "id": "db03834b",
   "metadata": {},
   "outputs": [
    {
     "name": "stderr",
     "output_type": "stream",
     "text": [
      "WARNING:root:Limited tf.compat.v2.summary API due to missing TensorBoard installation.\n",
      "WARNING:root:Limited tf.compat.v2.summary API due to missing TensorBoard installation.\n",
      "WARNING:root:Limited tf.compat.v2.summary API due to missing TensorBoard installation.\n",
      "WARNING:root:Limited tf.summary API due to missing TensorBoard installation.\n",
      "WARNING:root:Limited tf.compat.v2.summary API due to missing TensorBoard installation.\n",
      "WARNING:root:Limited tf.compat.v2.summary API due to missing TensorBoard installation.\n",
      "WARNING:root:Limited tf.compat.v2.summary API due to missing TensorBoard installation.\n"
     ]
    }
   ],
   "source": [
    "import matplotlib.pyplot as plt\n",
    "import numpy as np\n",
    "import os\n",
    "import PIL\n",
    "import tensorflow as tf\n",
    "\n",
    "from tensorflow import keras\n",
    "from tensorflow.keras import layers\n",
    "from tensorflow.keras.models import Sequential\n",
    "from tensorflow.keras.preprocessing import image_dataset_from_directory\n",
    "from tensorflow.keras.callbacks import EarlyStopping"
   ]
  },
  {
   "cell_type": "code",
   "execution_count": 2,
   "id": "28ff5ed6",
   "metadata": {},
   "outputs": [],
   "source": [
    "dataset_path = 'E:\\\\workspace\\\\학교_수업\\\\4학년자료\\\\22종프\\\\학습데이터\\\\dataset'"
   ]
  },
  {
   "cell_type": "code",
   "execution_count": 3,
   "id": "b956f492",
   "metadata": {},
   "outputs": [],
   "source": [
    "image_size = (180, 180)\n",
    "batch_size = 16\n",
    "epochs = 100\n",
    "patience = 6\n",
    "# patience: 학습 조기종료 인자. val_loss가 5epoch 동안 낮아지지 않으면 학습 종료"
   ]
  },
  {
   "cell_type": "code",
   "execution_count": 6,
   "id": "8514e5a3",
   "metadata": {},
   "outputs": [
    {
     "name": "stdout",
     "output_type": "stream",
     "text": [
      "Found 3498 files belonging to 2 classes.\n",
      "Using 2799 files for training.\n"
     ]
    }
   ],
   "source": [
    "train_set = image_dataset_from_directory(\n",
    "    dataset_path,\n",
    "    validation_split=0.2,\n",
    "    subset='training',\n",
    "    seed=123,\n",
    "    shuffle=True,\n",
    "    image_size=image_size,\n",
    "    batch_size=batch_size\n",
    ")"
   ]
  },
  {
   "cell_type": "code",
   "execution_count": 7,
   "id": "c61deeb5",
   "metadata": {},
   "outputs": [
    {
     "name": "stdout",
     "output_type": "stream",
     "text": [
      "Found 3498 files belonging to 2 classes.\n",
      "Using 699 files for validation.\n"
     ]
    }
   ],
   "source": [
    "valid_set = image_dataset_from_directory(\n",
    "    dataset_path,\n",
    "    validation_split=0.2,\n",
    "    subset='validation',\n",
    "    seed=123,\n",
    "    shuffle=True,\n",
    "    image_size=image_size,\n",
    "    batch_size=batch_size\n",
    ")"
   ]
  },
  {
   "cell_type": "code",
   "execution_count": 8,
   "id": "919680dd",
   "metadata": {},
   "outputs": [
    {
     "name": "stdout",
     "output_type": "stream",
     "text": [
      "['non_smoking', 'smoking']\n"
     ]
    }
   ],
   "source": [
    "labels = train_set.class_names\n",
    "print(labels)\n",
    "# ['non_smoking', 'smoking']"
   ]
  },
  {
   "cell_type": "code",
   "execution_count": 9,
   "id": "ebc421fb",
   "metadata": {},
   "outputs": [],
   "source": [
    "# 학습 성능 높이기\n",
    "AUTOTUNE = tf.data.experimental.AUTOTUNE\n",
    "train_set = train_set.cache().shuffle(1000).prefetch(buffer_size=AUTOTUNE)\n",
    "valid_set = valid_set.cache().prefetch(buffer_size=AUTOTUNE)"
   ]
  },
  {
   "cell_type": "code",
   "execution_count": 10,
   "id": "ab428d18",
   "metadata": {},
   "outputs": [],
   "source": [
    "# 데이터 증강\n",
    "data_augmentation = Sequential(\n",
    "    [\n",
    "        layers.experimental.preprocessing.RandomFlip(\n",
    "            'horizontal',\n",
    "            input_shape=(180, 180, 3)\n",
    "        ),\n",
    "        layers.experimental.preprocessing.RandomRotation(0.1),\n",
    "        layers.experimental.preprocessing.RandomZoom(0.1)\n",
    "    ]\n",
    ")"
   ]
  },
  {
   "cell_type": "code",
   "execution_count": 11,
   "id": "ae29dcf9",
   "metadata": {},
   "outputs": [],
   "source": [
    "model = Sequential([\n",
    "    data_augmentation,\n",
    "    layers.experimental.preprocessing.Rescaling(1./255),\n",
    "    layers.Conv2D(32, 3, padding='same', activation='relu'),\n",
    "    layers.MaxPooling2D(),\n",
    "    layers.Conv2D(32, 3, padding='same', activation='relu'),\n",
    "    layers.MaxPooling2D(),\n",
    "    layers.Conv2D(64, 3, padding='same', activation='relu'),\n",
    "    layers.MaxPooling2D(),\n",
    "    layers.Flatten(),\n",
    "    layers.Dropout(0.2),\n",
    "    layers.Dense(1000, activation='relu'),\n",
    "    layers.Dropout(0.5),\n",
    "    layers.Dense(400, activation='relu'),\n",
    "    layers.Dropout(0.5),\n",
    "    layers.Dense(128, activation='relu'),\n",
    "    layers.Dense(2, activation='softmax'),\n",
    "])"
   ]
  },
  {
   "cell_type": "code",
   "execution_count": 12,
   "id": "a9efbb71",
   "metadata": {},
   "outputs": [
    {
     "name": "stdout",
     "output_type": "stream",
     "text": [
      "Model: \"sequential_1\"\n",
      "_________________________________________________________________\n",
      " Layer (type)                Output Shape              Param #   \n",
      "=================================================================\n",
      " sequential (Sequential)     (None, 180, 180, 3)       0         \n",
      "                                                                 \n",
      " rescaling (Rescaling)       (None, 180, 180, 3)       0         \n",
      "                                                                 \n",
      " conv2d (Conv2D)             (None, 180, 180, 32)      896       \n",
      "                                                                 \n",
      " max_pooling2d (MaxPooling2D  (None, 90, 90, 32)       0         \n",
      " )                                                               \n",
      "                                                                 \n",
      " conv2d_1 (Conv2D)           (None, 90, 90, 32)        9248      \n",
      "                                                                 \n",
      " max_pooling2d_1 (MaxPooling  (None, 45, 45, 32)       0         \n",
      " 2D)                                                             \n",
      "                                                                 \n",
      " conv2d_2 (Conv2D)           (None, 45, 45, 64)        18496     \n",
      "                                                                 \n",
      " max_pooling2d_2 (MaxPooling  (None, 22, 22, 64)       0         \n",
      " 2D)                                                             \n",
      "                                                                 \n",
      " flatten (Flatten)           (None, 30976)             0         \n",
      "                                                                 \n",
      " dropout (Dropout)           (None, 30976)             0         \n",
      "                                                                 \n",
      " dense (Dense)               (None, 1000)              30977000  \n",
      "                                                                 \n",
      " dropout_1 (Dropout)         (None, 1000)              0         \n",
      "                                                                 \n",
      " dense_1 (Dense)             (None, 400)               400400    \n",
      "                                                                 \n",
      " dropout_2 (Dropout)         (None, 400)               0         \n",
      "                                                                 \n",
      " dense_2 (Dense)             (None, 128)               51328     \n",
      "                                                                 \n",
      " dense_3 (Dense)             (None, 2)                 258       \n",
      "                                                                 \n",
      "=================================================================\n",
      "Total params: 31,457,626\n",
      "Trainable params: 31,457,626\n",
      "Non-trainable params: 0\n",
      "_________________________________________________________________\n"
     ]
    }
   ],
   "source": [
    "model.compile(\n",
    "    optimizer=tf.keras.optimizers.Adam(learning_rate=0.0001),\n",
    "    loss=tf.keras.losses.SparseCategoricalCrossentropy(),\n",
    "    metrics=['accuracy']\n",
    ")\n",
    "model.summary()"
   ]
  },
  {
   "cell_type": "code",
   "execution_count": 13,
   "id": "7ff804f2",
   "metadata": {},
   "outputs": [],
   "source": [
    "callbacks = [\n",
    "    EarlyStopping(monitor='val_loss', patience=patience) # patience :: 참을성 인자, val_loss 값이 더이상 줄어들지 않으면 조기 종료\n",
    "]"
   ]
  },
  {
   "cell_type": "code",
   "execution_count": 14,
   "id": "2fa3b759",
   "metadata": {},
   "outputs": [
    {
     "name": "stdout",
     "output_type": "stream",
     "text": [
      "Epoch 1/100\n",
      "175/175 [==============================] - 10s 37ms/step - loss: 0.6598 - accuracy: 0.6284 - val_loss: 0.6488 - val_accuracy: 0.6152\n",
      "Epoch 2/100\n",
      "175/175 [==============================] - 6s 33ms/step - loss: 0.6094 - accuracy: 0.6577 - val_loss: 0.6093 - val_accuracy: 0.6338\n",
      "Epoch 3/100\n",
      "175/175 [==============================] - 6s 33ms/step - loss: 0.5502 - accuracy: 0.7188 - val_loss: 0.5194 - val_accuracy: 0.7253\n",
      "Epoch 4/100\n",
      "175/175 [==============================] - 6s 33ms/step - loss: 0.4976 - accuracy: 0.7588 - val_loss: 0.4341 - val_accuracy: 0.7597\n",
      "Epoch 5/100\n",
      "175/175 [==============================] - 6s 33ms/step - loss: 0.4571 - accuracy: 0.7946 - val_loss: 0.4407 - val_accuracy: 0.7911\n",
      "Epoch 6/100\n",
      "175/175 [==============================] - 6s 33ms/step - loss: 0.4100 - accuracy: 0.8185 - val_loss: 0.2991 - val_accuracy: 0.8712\n",
      "Epoch 7/100\n",
      "175/175 [==============================] - 6s 33ms/step - loss: 0.3767 - accuracy: 0.8321 - val_loss: 0.2640 - val_accuracy: 0.9127\n",
      "Epoch 8/100\n",
      "175/175 [==============================] - 6s 33ms/step - loss: 0.3260 - accuracy: 0.8617 - val_loss: 0.2739 - val_accuracy: 0.8755\n",
      "Epoch 9/100\n",
      "175/175 [==============================] - 6s 35ms/step - loss: 0.3097 - accuracy: 0.8603 - val_loss: 0.2182 - val_accuracy: 0.9056\n",
      "Epoch 10/100\n",
      "175/175 [==============================] - 6s 35ms/step - loss: 0.2775 - accuracy: 0.8807 - val_loss: 0.2094 - val_accuracy: 0.9242\n",
      "Epoch 11/100\n",
      "175/175 [==============================] - 6s 33ms/step - loss: 0.2577 - accuracy: 0.8925 - val_loss: 0.2271 - val_accuracy: 0.9156\n",
      "Epoch 12/100\n",
      "175/175 [==============================] - 6s 33ms/step - loss: 0.2440 - accuracy: 0.8964 - val_loss: 0.1671 - val_accuracy: 0.9227\n",
      "Epoch 13/100\n",
      "175/175 [==============================] - 6s 33ms/step - loss: 0.2063 - accuracy: 0.9150 - val_loss: 0.1821 - val_accuracy: 0.9242\n",
      "Epoch 14/100\n",
      "175/175 [==============================] - 6s 33ms/step - loss: 0.2021 - accuracy: 0.9150 - val_loss: 0.2239 - val_accuracy: 0.9127\n",
      "Epoch 15/100\n",
      "175/175 [==============================] - 6s 33ms/step - loss: 0.1890 - accuracy: 0.9210 - val_loss: 0.1357 - val_accuracy: 0.9542\n",
      "Epoch 16/100\n",
      "175/175 [==============================] - 6s 33ms/step - loss: 0.1691 - accuracy: 0.9289 - val_loss: 0.2276 - val_accuracy: 0.9156\n",
      "Epoch 17/100\n",
      "175/175 [==============================] - 6s 34ms/step - loss: 0.1656 - accuracy: 0.9332 - val_loss: 0.1341 - val_accuracy: 0.9614\n",
      "Epoch 18/100\n",
      "175/175 [==============================] - 6s 33ms/step - loss: 0.1662 - accuracy: 0.9357 - val_loss: 0.2211 - val_accuracy: 0.9099\n",
      "Epoch 19/100\n",
      "175/175 [==============================] - 6s 33ms/step - loss: 0.1427 - accuracy: 0.9425 - val_loss: 0.1689 - val_accuracy: 0.9413\n",
      "Epoch 20/100\n",
      "175/175 [==============================] - 6s 33ms/step - loss: 0.1567 - accuracy: 0.9400 - val_loss: 0.1039 - val_accuracy: 0.9614\n",
      "Epoch 21/100\n",
      "175/175 [==============================] - 6s 33ms/step - loss: 0.1328 - accuracy: 0.9453 - val_loss: 0.1752 - val_accuracy: 0.9514\n",
      "Epoch 22/100\n",
      "175/175 [==============================] - 6s 33ms/step - loss: 0.1179 - accuracy: 0.9514 - val_loss: 0.0843 - val_accuracy: 0.9742\n",
      "Epoch 23/100\n",
      "175/175 [==============================] - 6s 33ms/step - loss: 0.1311 - accuracy: 0.9511 - val_loss: 0.1845 - val_accuracy: 0.9356\n",
      "Epoch 24/100\n",
      "175/175 [==============================] - 6s 33ms/step - loss: 0.1216 - accuracy: 0.9514 - val_loss: 0.1175 - val_accuracy: 0.9557\n",
      "Epoch 25/100\n",
      "175/175 [==============================] - 6s 33ms/step - loss: 0.1137 - accuracy: 0.9611 - val_loss: 0.1422 - val_accuracy: 0.9514\n",
      "Epoch 26/100\n",
      "175/175 [==============================] - 6s 33ms/step - loss: 0.1030 - accuracy: 0.9632 - val_loss: 0.0723 - val_accuracy: 0.9785\n",
      "Epoch 27/100\n",
      "175/175 [==============================] - 6s 33ms/step - loss: 0.0995 - accuracy: 0.9632 - val_loss: 0.0722 - val_accuracy: 0.9771\n",
      "Epoch 28/100\n",
      "175/175 [==============================] - 6s 33ms/step - loss: 0.0969 - accuracy: 0.9639 - val_loss: 0.1057 - val_accuracy: 0.9671\n",
      "Epoch 29/100\n",
      "175/175 [==============================] - 6s 33ms/step - loss: 0.0913 - accuracy: 0.9603 - val_loss: 0.1494 - val_accuracy: 0.9585\n",
      "Epoch 30/100\n",
      "175/175 [==============================] - 6s 33ms/step - loss: 0.0860 - accuracy: 0.9671 - val_loss: 0.1097 - val_accuracy: 0.9685\n",
      "Epoch 31/100\n",
      "175/175 [==============================] - 6s 33ms/step - loss: 0.0880 - accuracy: 0.9650 - val_loss: 0.3105 - val_accuracy: 0.9285\n",
      "Epoch 32/100\n",
      "175/175 [==============================] - 6s 33ms/step - loss: 0.0838 - accuracy: 0.9693 - val_loss: 0.1027 - val_accuracy: 0.9700\n",
      "Epoch 33/100\n",
      "175/175 [==============================] - 6s 33ms/step - loss: 0.0720 - accuracy: 0.9728 - val_loss: 0.0715 - val_accuracy: 0.9785\n",
      "Epoch 34/100\n",
      "175/175 [==============================] - 6s 33ms/step - loss: 0.0750 - accuracy: 0.9732 - val_loss: 0.0805 - val_accuracy: 0.9814\n",
      "Epoch 35/100\n",
      "175/175 [==============================] - 6s 33ms/step - loss: 0.0901 - accuracy: 0.9675 - val_loss: 0.0451 - val_accuracy: 0.9828\n",
      "Epoch 36/100\n",
      "175/175 [==============================] - 6s 33ms/step - loss: 0.0792 - accuracy: 0.9693 - val_loss: 0.2736 - val_accuracy: 0.9471\n",
      "Epoch 37/100\n",
      "175/175 [==============================] - 6s 33ms/step - loss: 0.0658 - accuracy: 0.9764 - val_loss: 0.0837 - val_accuracy: 0.9800\n",
      "Epoch 38/100\n",
      "175/175 [==============================] - 6s 33ms/step - loss: 0.0707 - accuracy: 0.9718 - val_loss: 0.0741 - val_accuracy: 0.9814\n",
      "Epoch 39/100\n",
      "175/175 [==============================] - 6s 33ms/step - loss: 0.0832 - accuracy: 0.9686 - val_loss: 0.0743 - val_accuracy: 0.9728\n",
      "Epoch 40/100\n",
      "175/175 [==============================] - 6s 33ms/step - loss: 0.0592 - accuracy: 0.9775 - val_loss: 0.1298 - val_accuracy: 0.9700\n",
      "Epoch 41/100\n",
      "175/175 [==============================] - 6s 33ms/step - loss: 0.0566 - accuracy: 0.9771 - val_loss: 0.1152 - val_accuracy: 0.9742\n"
     ]
    }
   ],
   "source": [
    "history = model.fit(\n",
    "    train_set,\n",
    "    validation_data=valid_set,\n",
    "    callbacks=callbacks,\n",
    "    epochs=epochs\n",
    ")"
   ]
  },
  {
   "cell_type": "code",
   "execution_count": 15,
   "id": "b0e60723",
   "metadata": {},
   "outputs": [
    {
     "name": "stdout",
     "output_type": "stream",
     "text": [
      "44/44 [==============================] - 0s 10ms/step - loss: 0.1152 - accuracy: 0.9742\n",
      "Test Loss :  0.11524423211812973\n",
      "Test Accuracy :  0.9742489457130432\n"
     ]
    }
   ],
   "source": [
    "# 검증 집합 평가\n",
    "loss, accuracy = model.evaluate(valid_set)\n",
    "print('Test Loss : ', loss)\n",
    "print('Test Accuracy : ', accuracy)"
   ]
  },
  {
   "cell_type": "code",
   "execution_count": 16,
   "id": "18ef016b",
   "metadata": {},
   "outputs": [
    {
     "data": {
      "image/png": "[encoded data removed]",
      "text/plain": [
       "<Figure size 576x576 with 2 Axes>"
      ]
     },
     "metadata": {
      "needs_background": "light"
     },
     "output_type": "display_data"
    }
   ],
   "source": [
    "early_epoch = history.epoch[-1] + 1\n",
    "acc = history.history['accuracy']\n",
    "val_acc = history.history['val_accuracy']\n",
    "\n",
    "loss=history.history['loss']\n",
    "val_loss=history.history['val_loss']\n",
    "\n",
    "# 학습 종료시 epoch 기록\n",
    "epochs_range = range(early_epoch)\n",
    "plt.figure(figsize=(8, 8))\n",
    "plt.subplot(1, 2, 1)\n",
    "plt.plot(epochs_range, acc, label='Training Accuracy')\n",
    "plt.plot(epochs_range, val_acc, label='Validation Accuracy')\n",
    "plt.legend(loc='lower right')\n",
    "plt.title('Training and Validation Accuracy')\n",
    "\n",
    "plt.subplot(1, 2, 2)\n",
    "plt.plot(epochs_range, loss, label='Training Loss')\n",
    "plt.plot(epochs_range, val_loss, label='Validation Loss')\n",
    "plt.legend(loc='upper right')\n",
    "plt.title('Training and Validation Loss')\n",
    "# plt.show()\n",
    "plt.savefig('./new2_model0611_1_dataset_graph.png', facecolor='#FFFFFF')"
   ]
  },
  {
   "cell_type": "code",
   "execution_count": 17,
   "id": "2cdea454",
   "metadata": {},
   "outputs": [
    {
     "name": "stdout",
     "output_type": "stream",
     "text": [
      "INFO:tensorflow:Assets written to: ./model/save_model_0611new2_1\\assets\n"
     ]
    },
    {
     "name": "stderr",
     "output_type": "stream",
     "text": [
      "INFO:tensorflow:Assets written to: ./model/save_model_0611new2_1\\assets\n"
     ]
    }
   ],
   "source": [
    "model.save('./model/save_model_0611new2_1')\n",
    "model.save('./model/save_model_0611new2_1.h5', save_format='h5')"
   ]
  },
  {
   "cell_type": "code",
   "execution_count": null,
   "id": "05fb368a",
   "metadata": {},
   "outputs": [],
   "source": []
  }
 ],
 "metadata": {
  "kernelspec": {
   "display_name": "Python 3 (ipykernel)",
   "language": "python",
   "name": "python3"
  },
  "language_info": {
   "codemirror_mode": {
    "name": "ipython",
    "version": 3
   },
   "file_extension": ".py",
   "mimetype": "text/x-python",
   "name": "python",
   "nbconvert_exporter": "python",
   "pygments_lexer": "ipython3",
   "version": "3.7.13"
  }
 },
 "nbformat": 4,
 "nbformat_minor": 5
}
